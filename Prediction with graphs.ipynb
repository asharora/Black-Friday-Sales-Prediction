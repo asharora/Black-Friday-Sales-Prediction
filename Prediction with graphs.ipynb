{
 "cells": [
  {
   "cell_type": "code",
   "execution_count": 1,
   "metadata": {
    "ExecuteTime": {
     "end_time": "2020-06-10T12:50:20.490423Z",
     "start_time": "2020-06-10T12:50:17.589876Z"
    }
   },
   "outputs": [],
   "source": [
    "import numpy as np\n",
    "import pandas as pd\n",
    "from sklearn.model_selection import train_test_split\n",
    "from sklearn import metrics\n",
    "from sklearn.ensemble import RandomForestRegressor\n",
    "from sklearn.preprocessing import LabelEncoder\n",
    "\n"
   ]
  },
  {
   "cell_type": "code",
   "execution_count": 2,
   "metadata": {
    "ExecuteTime": {
     "end_time": "2020-06-10T12:50:20.915947Z",
     "start_time": "2020-06-10T12:50:20.491338Z"
    }
   },
   "outputs": [
    {
     "data": {
      "text/html": [
       "<div>\n",
       "<style scoped>\n",
       "    .dataframe tbody tr th:only-of-type {\n",
       "        vertical-align: middle;\n",
       "    }\n",
       "\n",
       "    .dataframe tbody tr th {\n",
       "        vertical-align: top;\n",
       "    }\n",
       "\n",
       "    .dataframe thead th {\n",
       "        text-align: right;\n",
       "    }\n",
       "</style>\n",
       "<table border=\"1\" class=\"dataframe\">\n",
       "  <thead>\n",
       "    <tr style=\"text-align: right;\">\n",
       "      <th></th>\n",
       "      <th>User_ID</th>\n",
       "      <th>Product_ID</th>\n",
       "      <th>Gender</th>\n",
       "      <th>Age</th>\n",
       "      <th>Occupation</th>\n",
       "      <th>City_Category</th>\n",
       "      <th>Stay_In_Current_City_Years</th>\n",
       "      <th>Marital_Status</th>\n",
       "      <th>Product_Category_1</th>\n",
       "      <th>Product_Category_2</th>\n",
       "      <th>Product_Category_3</th>\n",
       "      <th>Purchase</th>\n",
       "    </tr>\n",
       "  </thead>\n",
       "  <tbody>\n",
       "    <tr>\n",
       "      <th>0</th>\n",
       "      <td>1000001</td>\n",
       "      <td>P00069042</td>\n",
       "      <td>F</td>\n",
       "      <td>0-17</td>\n",
       "      <td>10</td>\n",
       "      <td>A</td>\n",
       "      <td>2</td>\n",
       "      <td>0</td>\n",
       "      <td>3</td>\n",
       "      <td>NaN</td>\n",
       "      <td>NaN</td>\n",
       "      <td>8370</td>\n",
       "    </tr>\n",
       "    <tr>\n",
       "      <th>1</th>\n",
       "      <td>1000001</td>\n",
       "      <td>P00248942</td>\n",
       "      <td>F</td>\n",
       "      <td>0-17</td>\n",
       "      <td>10</td>\n",
       "      <td>A</td>\n",
       "      <td>2</td>\n",
       "      <td>0</td>\n",
       "      <td>1</td>\n",
       "      <td>6.0</td>\n",
       "      <td>14.0</td>\n",
       "      <td>15200</td>\n",
       "    </tr>\n",
       "    <tr>\n",
       "      <th>2</th>\n",
       "      <td>1000001</td>\n",
       "      <td>P00087842</td>\n",
       "      <td>F</td>\n",
       "      <td>0-17</td>\n",
       "      <td>10</td>\n",
       "      <td>A</td>\n",
       "      <td>2</td>\n",
       "      <td>0</td>\n",
       "      <td>12</td>\n",
       "      <td>NaN</td>\n",
       "      <td>NaN</td>\n",
       "      <td>1422</td>\n",
       "    </tr>\n",
       "    <tr>\n",
       "      <th>3</th>\n",
       "      <td>1000001</td>\n",
       "      <td>P00085442</td>\n",
       "      <td>F</td>\n",
       "      <td>0-17</td>\n",
       "      <td>10</td>\n",
       "      <td>A</td>\n",
       "      <td>2</td>\n",
       "      <td>0</td>\n",
       "      <td>12</td>\n",
       "      <td>14.0</td>\n",
       "      <td>NaN</td>\n",
       "      <td>1057</td>\n",
       "    </tr>\n",
       "    <tr>\n",
       "      <th>4</th>\n",
       "      <td>1000002</td>\n",
       "      <td>P00285442</td>\n",
       "      <td>M</td>\n",
       "      <td>55+</td>\n",
       "      <td>16</td>\n",
       "      <td>C</td>\n",
       "      <td>4+</td>\n",
       "      <td>0</td>\n",
       "      <td>8</td>\n",
       "      <td>NaN</td>\n",
       "      <td>NaN</td>\n",
       "      <td>7969</td>\n",
       "    </tr>\n",
       "  </tbody>\n",
       "</table>\n",
       "</div>"
      ],
      "text/plain": [
       "   User_ID Product_ID Gender   Age  Occupation City_Category  \\\n",
       "0  1000001  P00069042      F  0-17          10             A   \n",
       "1  1000001  P00248942      F  0-17          10             A   \n",
       "2  1000001  P00087842      F  0-17          10             A   \n",
       "3  1000001  P00085442      F  0-17          10             A   \n",
       "4  1000002  P00285442      M   55+          16             C   \n",
       "\n",
       "  Stay_In_Current_City_Years  Marital_Status  Product_Category_1  \\\n",
       "0                          2               0                   3   \n",
       "1                          2               0                   1   \n",
       "2                          2               0                  12   \n",
       "3                          2               0                  12   \n",
       "4                         4+               0                   8   \n",
       "\n",
       "   Product_Category_2  Product_Category_3  Purchase  \n",
       "0                 NaN                 NaN      8370  \n",
       "1                 6.0                14.0     15200  \n",
       "2                 NaN                 NaN      1422  \n",
       "3                14.0                 NaN      1057  \n",
       "4                 NaN                 NaN      7969  "
      ]
     },
     "execution_count": 2,
     "metadata": {},
     "output_type": "execute_result"
    }
   ],
   "source": [
    "## reading the csv file\n",
    "df=pd.read_csv(\"BlackFriday.csv\")\n",
    "df.head()"
   ]
  },
  {
   "cell_type": "code",
   "execution_count": 3,
   "metadata": {
    "ExecuteTime": {
     "end_time": "2020-06-10T12:50:20.967913Z",
     "start_time": "2020-06-10T12:50:20.916945Z"
    }
   },
   "outputs": [],
   "source": [
    "## fill the missing parameters and removed the user_ID\n",
    "\n",
    "df[\"Product_Category_2\"].fillna(value=int(df[\"Product_Category_2\"].mean()),inplace=True)\n",
    "df[\"Product_Category_3\"].fillna(value=int(df[\"Product_Category_3\"].mean()),inplace=True)\n",
    "df.drop(columns=[\"User_ID\"],axis=1,inplace=True)"
   ]
  },
  {
   "cell_type": "code",
   "execution_count": 4,
   "metadata": {
    "ExecuteTime": {
     "end_time": "2020-06-10T12:50:21.528105Z",
     "start_time": "2020-06-10T12:50:20.968880Z"
    }
   },
   "outputs": [
    {
     "data": {
      "text/html": [
       "<div>\n",
       "<style scoped>\n",
       "    .dataframe tbody tr th:only-of-type {\n",
       "        vertical-align: middle;\n",
       "    }\n",
       "\n",
       "    .dataframe tbody tr th {\n",
       "        vertical-align: top;\n",
       "    }\n",
       "\n",
       "    .dataframe thead th {\n",
       "        text-align: right;\n",
       "    }\n",
       "</style>\n",
       "<table border=\"1\" class=\"dataframe\">\n",
       "  <thead>\n",
       "    <tr style=\"text-align: right;\">\n",
       "      <th></th>\n",
       "      <th>Product_ID</th>\n",
       "      <th>Gender</th>\n",
       "      <th>Age</th>\n",
       "      <th>Occupation</th>\n",
       "      <th>City_Category</th>\n",
       "      <th>Stay_In_Current_City_Years</th>\n",
       "      <th>Marital_Status</th>\n",
       "      <th>Product_Category_1</th>\n",
       "      <th>Product_Category_2</th>\n",
       "      <th>Product_Category_3</th>\n",
       "      <th>Purchase</th>\n",
       "    </tr>\n",
       "  </thead>\n",
       "  <tbody>\n",
       "    <tr>\n",
       "      <th>0</th>\n",
       "      <td>670</td>\n",
       "      <td>0</td>\n",
       "      <td>0</td>\n",
       "      <td>10</td>\n",
       "      <td>0</td>\n",
       "      <td>2</td>\n",
       "      <td>0</td>\n",
       "      <td>2</td>\n",
       "      <td>7</td>\n",
       "      <td>8</td>\n",
       "      <td>8370</td>\n",
       "    </tr>\n",
       "    <tr>\n",
       "      <th>1</th>\n",
       "      <td>2374</td>\n",
       "      <td>0</td>\n",
       "      <td>0</td>\n",
       "      <td>10</td>\n",
       "      <td>0</td>\n",
       "      <td>2</td>\n",
       "      <td>0</td>\n",
       "      <td>0</td>\n",
       "      <td>4</td>\n",
       "      <td>10</td>\n",
       "      <td>15200</td>\n",
       "    </tr>\n",
       "    <tr>\n",
       "      <th>2</th>\n",
       "      <td>850</td>\n",
       "      <td>0</td>\n",
       "      <td>0</td>\n",
       "      <td>10</td>\n",
       "      <td>0</td>\n",
       "      <td>2</td>\n",
       "      <td>0</td>\n",
       "      <td>11</td>\n",
       "      <td>7</td>\n",
       "      <td>8</td>\n",
       "      <td>1422</td>\n",
       "    </tr>\n",
       "    <tr>\n",
       "      <th>3</th>\n",
       "      <td>826</td>\n",
       "      <td>0</td>\n",
       "      <td>0</td>\n",
       "      <td>10</td>\n",
       "      <td>0</td>\n",
       "      <td>2</td>\n",
       "      <td>0</td>\n",
       "      <td>11</td>\n",
       "      <td>12</td>\n",
       "      <td>8</td>\n",
       "      <td>1057</td>\n",
       "    </tr>\n",
       "    <tr>\n",
       "      <th>4</th>\n",
       "      <td>2732</td>\n",
       "      <td>1</td>\n",
       "      <td>6</td>\n",
       "      <td>16</td>\n",
       "      <td>2</td>\n",
       "      <td>4</td>\n",
       "      <td>0</td>\n",
       "      <td>7</td>\n",
       "      <td>7</td>\n",
       "      <td>8</td>\n",
       "      <td>7969</td>\n",
       "    </tr>\n",
       "  </tbody>\n",
       "</table>\n",
       "</div>"
      ],
      "text/plain": [
       "   Product_ID  Gender  Age  Occupation  City_Category  \\\n",
       "0         670       0    0          10              0   \n",
       "1        2374       0    0          10              0   \n",
       "2         850       0    0          10              0   \n",
       "3         826       0    0          10              0   \n",
       "4        2732       1    6          16              2   \n",
       "\n",
       "   Stay_In_Current_City_Years  Marital_Status  Product_Category_1  \\\n",
       "0                           2               0                   2   \n",
       "1                           2               0                   0   \n",
       "2                           2               0                  11   \n",
       "3                           2               0                  11   \n",
       "4                           4               0                   7   \n",
       "\n",
       "   Product_Category_2  Product_Category_3  Purchase  \n",
       "0                   7                   8      8370  \n",
       "1                   4                  10     15200  \n",
       "2                   7                   8      1422  \n",
       "3                  12                   8      1057  \n",
       "4                   7                   8      7969  "
      ]
     },
     "execution_count": 4,
     "metadata": {},
     "output_type": "execute_result"
    }
   ],
   "source": [
    "## Label encoder\n",
    "\n",
    "encoder=LabelEncoder()\n",
    "\n",
    "df[\"Product_ID\"]=encoder.fit_transform(df[\"Product_ID\"])\n",
    "df[\"Gender\"]=encoder.fit_transform(df[\"Gender\"])\n",
    "df[\"Age\"]=encoder.fit_transform(df[\"Age\"])\n",
    "df[\"Occupation\"]=encoder.fit_transform(df[\"Occupation\"])\n",
    "df[\"City_Category\"]=encoder.fit_transform(df[\"City_Category\"])\n",
    "df[\"Stay_In_Current_City_Years\"]=encoder.fit_transform(df[\"Stay_In_Current_City_Years\"])\n",
    "df[\"Marital_Status\"]=encoder.fit_transform(df[\"Marital_Status\"])\n",
    "df[\"Product_Category_1\"]=encoder.fit_transform(df[\"Product_Category_1\"])\n",
    "df[\"Product_Category_2\"]=encoder.fit_transform(df[\"Product_Category_2\"])\n",
    "df[\"Product_Category_3\"]=encoder.fit_transform(df[\"Product_Category_3\"])\n",
    "#df[\"Purchase\"]=encoder.fit_transform(df[\"Purchase\"])\n",
    "\n",
    "df.head()\n"
   ]
  },
  {
   "cell_type": "code",
   "execution_count": 5,
   "metadata": {
    "ExecuteTime": {
     "end_time": "2020-06-10T12:50:21.696648Z",
     "start_time": "2020-06-10T12:50:21.529097Z"
    }
   },
   "outputs": [],
   "source": [
    "## Spilting the data set\n",
    "\n",
    "columns_x=df.columns\n",
    "columns_x=columns_x[0:len(columns_x)-1]\n",
    "x=df[columns_x].values\n",
    "y=df[\"Purchase\"].values\n",
    "x_train,x_test,y_train,y_test=train_test_split(x,y,test_size=0.2)\n",
    "\n"
   ]
  },
  {
   "cell_type": "code",
   "execution_count": 6,
   "metadata": {
    "ExecuteTime": {
     "end_time": "2020-06-10T12:50:21.700669Z",
     "start_time": "2020-06-10T12:50:21.697646Z"
    }
   },
   "outputs": [],
   "source": [
    "# Apply the Random Forest Regressor\n",
    "\n",
    "random_forest_reg=RandomForestRegressor(n_estimators=10)\n"
   ]
  },
  {
   "cell_type": "code",
   "execution_count": 7,
   "metadata": {
    "ExecuteTime": {
     "end_time": "2020-06-10T12:50:36.219857Z",
     "start_time": "2020-06-10T12:50:21.701636Z"
    }
   },
   "outputs": [
    {
     "data": {
      "text/plain": [
       "RandomForestRegressor(bootstrap=True, ccp_alpha=0.0, criterion='mse',\n",
       "                      max_depth=None, max_features='auto', max_leaf_nodes=None,\n",
       "                      max_samples=None, min_impurity_decrease=0.0,\n",
       "                      min_impurity_split=None, min_samples_leaf=1,\n",
       "                      min_samples_split=2, min_weight_fraction_leaf=0.0,\n",
       "                      n_estimators=10, n_jobs=None, oob_score=False,\n",
       "                      random_state=None, verbose=0, warm_start=False)"
      ]
     },
     "execution_count": 7,
     "metadata": {},
     "output_type": "execute_result"
    }
   ],
   "source": [
    "# fit the model\n",
    "\n",
    "random_forest_reg.fit(x_train,y_train)"
   ]
  },
  {
   "cell_type": "code",
   "execution_count": 8,
   "metadata": {
    "ExecuteTime": {
     "end_time": "2020-06-10T12:50:38.451754Z",
     "start_time": "2020-06-10T12:50:36.221815Z"
    }
   },
   "outputs": [
    {
     "name": "stdout",
     "output_type": "stream",
     "text": [
      "Accuracy for train data = 966.6080218085445\n",
      "\n",
      "Accuracy for test data = 2183.348558253245\n"
     ]
    }
   ],
   "source": [
    "# Calculate the mean absolute error\n",
    "print(\"Accuracy for train data =\",metrics.mean_absolute_error(y_train,random_forest_reg.predict(x_train))\n",
    ")\n",
    "print(\"\\nAccuracy for test data =\",metrics.mean_absolute_error(y_test,random_forest_reg.predict(x_test))\n",
    ")"
   ]
  },
  {
   "cell_type": "code",
   "execution_count": 9,
   "metadata": {
    "ExecuteTime": {
     "end_time": "2020-06-10T12:50:40.232185Z",
     "start_time": "2020-06-10T12:50:38.452752Z"
    }
   },
   "outputs": [
    {
     "data": {
      "text/plain": [
       "0.915911540729552"
      ]
     },
     "execution_count": 9,
     "metadata": {},
     "output_type": "execute_result"
    }
   ],
   "source": [
    "random_forest_reg.score(x_train,y_train)"
   ]
  },
  {
   "cell_type": "code",
   "execution_count": 10,
   "metadata": {
    "ExecuteTime": {
     "end_time": "2020-06-10T12:50:40.683006Z",
     "start_time": "2020-06-10T12:50:40.233181Z"
    }
   },
   "outputs": [
    {
     "data": {
      "text/plain": [
       "0.6426287510948501"
      ]
     },
     "execution_count": 10,
     "metadata": {},
     "output_type": "execute_result"
    }
   ],
   "source": [
    "random_forest_reg.score(x_test,y_test)"
   ]
  },
  {
   "cell_type": "code",
   "execution_count": 11,
   "metadata": {
    "ExecuteTime": {
     "end_time": "2020-06-10T12:58:58.677299Z",
     "start_time": "2020-06-10T12:50:40.683976Z"
    }
   },
   "outputs": [],
   "source": [
    "score_train=[]\n",
    "score_test=[]\n",
    "for i in range(5, 25):\n",
    "    random_forest_reg=RandomForestRegressor(n_estimators=i)\n",
    "    random_forest_reg.fit(x_train,y_train)\n",
    "    score_train.append(random_forest_reg.score(x_train,y_train))\n",
    "    score_test.append(random_forest_reg.score(x_test,y_test))"
   ]
  },
  {
   "cell_type": "code",
   "execution_count": null,
   "metadata": {
    "ExecuteTime": {
     "end_time": "2020-06-10T05:35:22.210851Z",
     "start_time": "2020-06-10T05:35:22.104108Z"
    },
    "scrolled": true
   },
   "outputs": [],
   "source": []
  },
  {
   "cell_type": "code",
   "execution_count": null,
   "metadata": {
    "ExecuteTime": {
     "end_time": "2020-06-10T05:35:24.863679Z",
     "start_time": "2020-06-10T05:35:24.760926Z"
    }
   },
   "outputs": [],
   "source": []
  },
  {
   "cell_type": "code",
   "execution_count": null,
   "metadata": {
    "ExecuteTime": {
     "end_time": "2020-06-10T05:37:49.542872Z",
     "start_time": "2020-06-10T05:37:49.536886Z"
    }
   },
   "outputs": [],
   "source": []
  },
  {
   "cell_type": "code",
   "execution_count": null,
   "metadata": {
    "ExecuteTime": {
     "end_time": "2020-06-10T05:37:52.381004Z",
     "start_time": "2020-06-10T05:37:52.376986Z"
    }
   },
   "outputs": [],
   "source": []
  },
  {
   "cell_type": "code",
   "execution_count": null,
   "metadata": {
    "ExecuteTime": {
     "end_time": "2020-06-10T05:50:28.781534Z",
     "start_time": "2020-06-10T05:50:28.776541Z"
    }
   },
   "outputs": [],
   "source": []
  },
  {
   "cell_type": "code",
   "execution_count": null,
   "metadata": {
    "ExecuteTime": {
     "end_time": "2020-06-10T05:48:47.482821Z",
     "start_time": "2020-06-10T05:48:47.348177Z"
    }
   },
   "outputs": [],
   "source": []
  },
  {
   "cell_type": "code",
   "execution_count": 26,
   "metadata": {
    "ExecuteTime": {
     "end_time": "2020-06-10T14:10:12.776195Z",
     "start_time": "2020-06-10T14:10:12.771207Z"
    }
   },
   "outputs": [
    {
     "data": {
      "text/plain": [
       "array([0.8995375 , 0.90527743, 0.90912848, 0.91196378, 0.91415666,\n",
       "       0.9159418 , 0.91738747, 0.91879063, 0.9196071 , 0.92048949,\n",
       "       0.92125872, 0.92187764, 0.9226211 , 0.92308395, 0.9235747 ,\n",
       "       0.92396718, 0.92430852, 0.92468055, 0.92483198, 0.92530974])"
      ]
     },
     "execution_count": 26,
     "metadata": {},
     "output_type": "execute_result"
    }
   ],
   "source": [
    "train_score=np.array(score_train)\n",
    "train_score"
   ]
  },
  {
   "cell_type": "code",
   "execution_count": 25,
   "metadata": {
    "ExecuteTime": {
     "end_time": "2020-06-10T14:10:08.794163Z",
     "start_time": "2020-06-10T14:10:08.789179Z"
    }
   },
   "outputs": [
    {
     "data": {
      "text/plain": [
       "array([0.61849357, 0.62905242, 0.63227009, 0.63785323, 0.64046913,\n",
       "       0.64250313, 0.64625604, 0.64684809, 0.64884447, 0.64972144,\n",
       "       0.65062642, 0.65193418, 0.65363861, 0.65427304, 0.65521907,\n",
       "       0.65521949, 0.65602567, 0.65575268, 0.65747489, 0.6578965 ])"
      ]
     },
     "execution_count": 25,
     "metadata": {},
     "output_type": "execute_result"
    }
   ],
   "source": [
    "test_score=np.array(score_test)\n",
    "test_score"
   ]
  },
  {
   "cell_type": "code",
   "execution_count": 22,
   "metadata": {
    "ExecuteTime": {
     "end_time": "2020-06-10T14:09:16.595502Z",
     "start_time": "2020-06-10T14:09:16.583530Z"
    }
   },
   "outputs": [
    {
     "ename": "NameError",
     "evalue": "name 'x_axis' is not defined",
     "output_type": "error",
     "traceback": [
      "\u001b[1;31m---------------------------------------------------------------------------\u001b[0m",
      "\u001b[1;31mNameError\u001b[0m                                 Traceback (most recent call last)",
      "\u001b[1;32m<ipython-input-22-27b468e71263>\u001b[0m in \u001b[0;36m<module>\u001b[1;34m\u001b[0m\n\u001b[0;32m      1\u001b[0m \u001b[1;32mimport\u001b[0m \u001b[0mmatplotlib\u001b[0m\u001b[1;33m.\u001b[0m\u001b[0mpyplot\u001b[0m \u001b[1;32mas\u001b[0m \u001b[0mplt\u001b[0m\u001b[1;33m\u001b[0m\u001b[1;33m\u001b[0m\u001b[0m\n\u001b[1;32m----> 2\u001b[1;33m \u001b[0mplt\u001b[0m\u001b[1;33m.\u001b[0m\u001b[0mscatter\u001b[0m\u001b[1;33m(\u001b[0m\u001b[0mx_axis\u001b[0m\u001b[1;33m,\u001b[0m \u001b[0mtrain_score\u001b[0m\u001b[1;33m)\u001b[0m\u001b[1;33m\u001b[0m\u001b[1;33m\u001b[0m\u001b[0m\n\u001b[0m\u001b[0;32m      3\u001b[0m \u001b[0mplt\u001b[0m\u001b[1;33m.\u001b[0m\u001b[0mxlabel\u001b[0m\u001b[1;33m(\u001b[0m\u001b[1;34m\"n_estimators\"\u001b[0m\u001b[1;33m)\u001b[0m\u001b[1;33m\u001b[0m\u001b[1;33m\u001b[0m\u001b[0m\n\u001b[0;32m      4\u001b[0m \u001b[0mplt\u001b[0m\u001b[1;33m.\u001b[0m\u001b[0mylabel\u001b[0m\u001b[1;33m(\u001b[0m\u001b[1;34m\"training score\"\u001b[0m\u001b[1;33m)\u001b[0m\u001b[1;33m\u001b[0m\u001b[1;33m\u001b[0m\u001b[0m\n\u001b[0;32m      5\u001b[0m \u001b[0mplt\u001b[0m\u001b[1;33m.\u001b[0m\u001b[0mtitle\u001b[0m\u001b[1;33m(\u001b[0m\u001b[1;34m\"Taining score vs no of trees\"\u001b[0m\u001b[1;33m)\u001b[0m\u001b[1;33m\u001b[0m\u001b[1;33m\u001b[0m\u001b[0m\n",
      "\u001b[1;31mNameError\u001b[0m: name 'x_axis' is not defined"
     ]
    }
   ],
   "source": [
    "import matplotlib.pyplot as plt\n",
    "plt.scatter(x_axis, train_score)\n",
    "plt.xlabel(\"n_estimators\")\n",
    "plt.ylabel(\"training score\")\n",
    "plt.title(\"Taining score vs no of trees\")"
   ]
  },
  {
   "cell_type": "code",
   "execution_count": null,
   "metadata": {
    "ExecuteTime": {
     "end_time": "2020-06-10T12:58:59.324790Z",
     "start_time": "2020-06-10T12:50:38.321Z"
    }
   },
   "outputs": [],
   "source": [
    "plt.scatter(x_axis, test_score)\n",
    "plt.xlabel(\"n_estimators\")\n",
    "plt.ylabel(\"test score\")\n",
    "plt.title(\"Test score vs no of trees\")"
   ]
  },
  {
   "cell_type": "code",
   "execution_count": 17,
   "metadata": {
    "ExecuteTime": {
     "end_time": "2020-06-10T13:08:50.414911Z",
     "start_time": "2020-06-10T13:08:50.410922Z"
    }
   },
   "outputs": [],
   "source": [
    "#TraINING SCORE VS NO OF TRAINING INPUT\n",
    "#x_train,x_test,y_train,y_test=train_test_split(x,y,test_size=0.2)\n",
    "testt_size=np.arange(0.1, 0.52, 0.02)"
   ]
  },
  {
   "cell_type": "code",
   "execution_count": 18,
   "metadata": {
    "ExecuteTime": {
     "end_time": "2020-06-10T13:08:52.486492Z",
     "start_time": "2020-06-10T13:08:52.482503Z"
    }
   },
   "outputs": [
    {
     "data": {
      "text/plain": [
       "array([0.1 , 0.12, 0.14, 0.16, 0.18, 0.2 , 0.22, 0.24, 0.26, 0.28, 0.3 ,\n",
       "       0.32, 0.34, 0.36, 0.38, 0.4 , 0.42, 0.44, 0.46, 0.48, 0.5 ])"
      ]
     },
     "execution_count": 18,
     "metadata": {},
     "output_type": "execute_result"
    }
   ],
   "source": [
    "testt_size"
   ]
  },
  {
   "cell_type": "code",
   "execution_count": 46,
   "metadata": {
    "ExecuteTime": {
     "end_time": "2020-06-10T14:43:10.009771Z",
     "start_time": "2020-06-10T14:38:20.617587Z"
    }
   },
   "outputs": [],
   "source": [
    "score_=[]\n",
    "for i in testt_size:\n",
    "    x_train,x_test,y_train,y_test=train_test_split(x,y,test_size=i)\n",
    "    random_forest_reg=RandomForestRegressor(n_estimators=10)\n",
    "    random_forest_reg.fit(x_train,y_train)\n",
    "    score_.append(random_forest_reg.score(x_test,y_test))"
   ]
  },
  {
   "cell_type": "code",
   "execution_count": 47,
   "metadata": {
    "ExecuteTime": {
     "end_time": "2020-06-10T14:43:16.476003Z",
     "start_time": "2020-06-10T14:43:16.368899Z"
    },
    "scrolled": false
   },
   "outputs": [
    {
     "data": {
      "text/plain": [
       "Text(0.5, 1.0, 'Model score vs test data size')"
      ]
     },
     "execution_count": 47,
     "metadata": {},
     "output_type": "execute_result"
    },
    {
     "data": {
      "image/png": "[encoded data removed]",
      "text/plain": [
       "<Figure size 432x288 with 1 Axes>"
      ]
     },
     "metadata": {
      "needs_background": "light"
     },
     "output_type": "display_data"
    }
   ],
   "source": [
    "plt.scatter(testt_size, score_)\n",
    "plt.xlabel(\"test-data size\")\n",
    "plt.ylabel(\"Model score\")\n",
    "plt.title(\"Model score vs test data size\")"
   ]
  },
  {
   "cell_type": "code",
   "execution_count": 35,
   "metadata": {
    "ExecuteTime": {
     "end_time": "2020-06-10T14:15:42.962851Z",
     "start_time": "2020-06-10T14:15:42.844455Z"
    }
   },
   "outputs": [
    {
     "data": {
      "text/plain": [
       "[0.6537842221645487,\n",
       " 0.6499443407541114,\n",
       " 0.6487132075626594,\n",
       " 0.6526602069113526,\n",
       " 0.6506031246893806,\n",
       " 0.6507432957555654,\n",
       " 0.6526520464794243,\n",
       " 0.6509552588126473,\n",
       " 0.650884194182729,\n",
       " 0.6506274953685994,\n",
       " 0.6515763003647719,\n",
       " 0.6494346291892896,\n",
       " 0.6516003875968331,\n",
       " 0.6492256449113389,\n",
       " 0.6530062037533666,\n",
       " 0.6517441424662207,\n",
       " 0.6506276391060194,\n",
       " 0.6508990718672598,\n",
       " 0.6519778897320241,\n",
       " 0.6523194164712549,\n",
       " 0.6533306751665644]"
      ]
     },
     "execution_count": 35,
     "metadata": {},
     "output_type": "execute_result"
    },
    {
     "data": {
      "image/png": "[encoded data removed]",
      "text/plain": [
       "<Figure size 432x288 with 1 Axes>"
      ]
     },
     "metadata": {
      "needs_background": "light"
     },
     "output_type": "display_data"
    }
   ],
   "source": [
    "plt.scatter(testt_size, score_)\n",
    "plt.xlabel(\"test-data size\")\n",
    "plt.ylabel(\"Model score\")\n",
    "plt.title(\"Model score vs test data size\")\n",
    "score_"
   ]
  },
  {
   "cell_type": "code",
   "execution_count": 45,
   "metadata": {
    "ExecuteTime": {
     "end_time": "2020-06-10T14:24:55.765975Z",
     "start_time": "2020-06-10T14:24:55.651281Z"
    }
   },
   "outputs": [
    {
     "name": "stderr",
     "output_type": "stream",
     "text": [
      "No handles with labels found to put in legend.\n"
     ]
    },
    {
     "data": {
      "text/plain": [
       "array([0.8995375 , 0.90527743, 0.90912848, 0.91196378, 0.91415666,\n",
       "       0.9159418 , 0.91738747, 0.91879063, 0.9196071 , 0.92048949,\n",
       "       0.92125872, 0.92187764, 0.9226211 , 0.92308395, 0.9235747 ,\n",
       "       0.92396718, 0.92430852, 0.92468055, 0.92483198, 0.92530974])"
      ]
     },
     "execution_count": 45,
     "metadata": {},
     "output_type": "execute_result"
    },
    {
     "data": {
      "image/png": "[encoded data removed]",
      "text/plain": [
       "<Figure size 432x288 with 1 Axes>"
      ]
     },
     "metadata": {
      "needs_background": "light"
     },
     "output_type": "display_data"
    }
   ],
   "source": [
    "x_axis=np.arange(5,25)\n",
    "import matplotlib.pyplot as plt\n",
    "plt.scatter(x_axis, train_score)\n",
    "plt.xlabel(\"n_estimators\")\n",
    "plt.ylabel(\"training score\")\n",
    "plt.title(\"Training score vs no of trees\")\n",
    "plt.legend()\n",
    "train_score"
   ]
  },
  {
   "cell_type": "code",
   "execution_count": 44,
   "metadata": {
    "ExecuteTime": {
     "end_time": "2020-06-10T14:24:28.329539Z",
     "start_time": "2020-06-10T14:24:28.218836Z"
    }
   },
   "outputs": [
    {
     "data": {
      "text/plain": [
       "Text(0.5, 1.0, 'Test score vs no of trees')"
      ]
     },
     "execution_count": 44,
     "metadata": {},
     "output_type": "execute_result"
    },
    {
     "data": {
      "image/png": "[encoded data removed]",
      "text/plain": [
       "<Figure size 432x288 with 1 Axes>"
      ]
     },
     "metadata": {
      "needs_background": "light"
     },
     "output_type": "display_data"
    }
   ],
   "source": [
    "x_axis=np.arange(5,25)\n",
    "import matplotlib.pyplot as plt\n",
    "plt.scatter(x_axis, test_score)\n",
    "plt.xlabel(\"n_estimators\")\n",
    "plt.ylabel(\"test score\")\n",
    "plt.title(\"Test score vs no of trees\")"
   ]
  },
  {
   "cell_type": "code",
   "execution_count": 49,
   "metadata": {
    "ExecuteTime": {
     "end_time": "2020-06-10T14:44:05.964663Z",
     "start_time": "2020-06-10T14:44:05.960645Z"
    }
   },
   "outputs": [
    {
     "data": {
      "text/plain": [
       "0.6578964985494653"
      ]
     },
     "execution_count": 49,
     "metadata": {},
     "output_type": "execute_result"
    }
   ],
   "source": [
    "max(test_score)"
   ]
  },
  {
   "cell_type": "code",
   "execution_count": null,
   "metadata": {},
   "outputs": [],
   "source": []
  }
 ],
 "metadata": {
  "kernelspec": {
   "display_name": "Python 3",
   "language": "python",
   "name": "python3"
  },
  "language_info": {
   "codemirror_mode": {
    "name": "ipython",
    "version": 3
   },
   "file_extension": ".py",
   "mimetype": "text/x-python",
   "name": "python",
   "nbconvert_exporter": "python",
   "pygments_lexer": "ipython3",
   "version": "3.7.6"
  }
 },
 "nbformat": 4,
 "nbformat_minor": 2
}
